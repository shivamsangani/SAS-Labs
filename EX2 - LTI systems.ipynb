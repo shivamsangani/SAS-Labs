{
 "cells": [
  {
   "cell_type": "markdown",
   "id": "59c3b683",
   "metadata": {
    "deletable": false,
    "editable": false
   },
   "source": [
    "# Exercise  2 - LTI systems\n",
    "\n",
    "## Objectives\n",
    "- To investigate properties of LTI systems\n",
    "- To learn about the different representations of LTI systems\n",
    "- To understand the concept of convolution\n"
   ]
  },
  {
   "cell_type": "code",
   "execution_count": 15,
   "id": "04bf3f42",
   "metadata": {},
   "outputs": [],
   "source": [
    "import os\n",
    "os.makedirs('results/ex2', exist_ok=True)"
   ]
  },
  {
   "cell_type": "markdown",
   "id": "7dd2bd21",
   "metadata": {
    "deletable": false,
    "editable": false
   },
   "source": [
    "## Lab Exercise\n",
    "\n",
    "### Impulse response representation\n",
    "<img src=\"img/ex2b_1.svg\" alt=\"Drawing\" style=\"width: 900px;\"/>\n",
    "<center>Figure 2.1: Impulse response of a LTI system</center>\n",
    "\n",
    "Suppose we apply a unit impulse function, $\\delta[n]$, as an input to a Linear Time-Invariant (LTI) system. The output is the impulse response of the digital system, $h[n]$, as shown  in  Fig. 2.1. Since the discrete-time system is time-invariant, the filter response to $\\delta[n-k]$ is $h[n-k]$. \n",
    "\n",
    "In general, any input signal $x[n]$ can be decomposed into signal values at each time sample, i.e.\n",
    "\n",
    "$$ x[n]=\\big[x[0]\\delta[n], {x[1]\\delta[n-1]}, \\cdots, {x[N]\\delta[n-N]}\\big]$$\n",
    "Consequently, the filter output is \n",
    "\n",
    "$$\\boldsymbol{y}[n]=x[0]h[n]+x[1]{h[n-1]}+\\cdots+x[N]{h[n-N]}.$$ This is defined as **linear convolution**.\n",
    "\n",
    "#### Example\n",
    "Consider a sequence of unit impulses of length $(N+1)$ as the input, $\\big[\\delta[n],{\\delta[n-1]},\\cdots,{\\delta[n-N]}\\big]$. Due to linearity, the response of the digital filter will be the sum of the outputs i.e. $y[n]=h[n]+{h[n-1]}+\\cdots+{h[n-N]}$. \n",
    "\n",
    "<img src=\"img/ex5_2.svg\" alt=\"Drawing\" style=\"width: 900px;\"/>\n",
    "<center>Figure 2.2: Linear convolution in time domain</center>\n",
    "\n",
    "---\n",
    "####  Definition\n",
    "$$\\text{Linear Convolution: }y[n]=x[n]*h[n]\\overset{\\Delta}{=}\\sum^\\infty_{k=-\\infty}x[k]h[n-k]$$\n",
    "\n",
    "---\n",
    "\n",
    "If we substitute $r$ for $n-k$ this becomes:\n",
    "$$y[n]=\\sum_{r=-\\infty}^{\\infty}h[r]x[n-r]$$\n",
    "\n",
    "Thus, for any linear time-invariant (LTI) filter, the output values consist of the sum of the past input values, weighted by the elements of the impulse response $h[n]$. This has been shown in Fig. 2.2. "
   ]
  },
  {
   "cell_type": "markdown",
   "id": "bb1eb410",
   "metadata": {
    "deletable": false,
    "editable": false
   },
   "source": [
    "**Question 2.1** What information is needed in order to compute the output of a discrete-time LTI system?\n"
   ]
  },
  {
   "cell_type": "markdown",
   "id": "4980745c",
   "metadata": {},
   "source": [
    "### **Answer 2.1** \n",
    "The impulse response $h[n]$ and the input signal $x[n]$ "
   ]
  },
  {
   "cell_type": "markdown",
   "id": "04c25469",
   "metadata": {
    "deletable": false,
    "editable": false
   },
   "source": [
    "\n",
    "**Question 2.2** Implement a linear convolution using your own `my_conv` function in the cell below. Verify that it gives you the correct result using the example in Fig 2.2.\n",
    "> **GTA Tip**\n",
    ">\n",
    "> - The length of `y` is always `len(x)+len(h)-1`.\n",
    "> - You can shift all elements of the array `x` by `nshift` elements using `np.roll(x,nshift)`.\n",
    "> - You can multiply all alements of the array `x` by a scalar `c` using `x*c`.\n",
    "> - You can verify that your implementation is correct by using the `np.convolve()` function."
   ]
  },
  {
   "cell_type": "code",
   "execution_count": 16,
   "id": "ce9673dd",
   "metadata": {},
   "outputs": [],
   "source": [
    "import numpy as np \n",
    "def my_conv(x,h):\n",
    "    y=np.zeros((len(x)+len(h)-1)) # This is always true\n",
    "    H=np.append(h, np.zeros(len(x)-1)) # append H with zeros so that len(H)=len(y)\n",
    "    X=np.append(x, np.zeros(len(h)-1)) # append X with zeros so that len(X)=len(y)\n",
    "    \n",
    "    for i in range(len(x)):\n",
    "        xi_contribution = X[i] * H\n",
    "\n",
    "        y[i:i+len(H)] += xi_contribution[:len(H)-i]      \n",
    "    return y\n",
    "    \n",
    "    "
   ]
  },
  {
   "cell_type": "code",
   "execution_count": 17,
   "id": "87379324",
   "metadata": {},
   "outputs": [
    {
     "data": {
      "image/png": "[encoded data removed]",
      "text/plain": [
       "<Figure size 640x480 with 1 Axes>"
      ]
     },
     "metadata": {},
     "output_type": "display_data"
    }
   ],
   "source": [
    "\n",
    "import matplotlib.pyplot as plt\n",
    "from functions.lab_functions import plot_signal\n",
    "\n",
    "x=[0,0,0,1,1,1] # this is the example in Fig 2.2\n",
    "h = [0.6, 0.8, 1, 0.3] # this is the example in Fig 2.2\n",
    "\n",
    "y=my_conv(x, h)\n",
    "\n",
    "plt = plot_signal(y, title='Linear Convolution', xlabel='Time [sample no.]', ylabel='Amplitude', func='stem')\n",
    "plt.savefig('results/ex2/ex2_linear_convolution.pdf')\n",
    "plt.show()"
   ]
  },
  {
   "cell_type": "markdown",
   "id": "3b1efd14",
   "metadata": {
    "deletable": false,
    "editable": false
   },
   "source": [
    "**Question 2.3** What will the output `y` be if you change `x` to `[0,0,0,1,1,1]`? Check your answer using `my_conv`."
   ]
  },
  {
   "cell_type": "markdown",
   "id": "688be333",
   "metadata": {},
   "source": [
    "Same graph shifted by 2 time samples"
   ]
  },
  {
   "cell_type": "markdown",
   "id": "ddfc5659",
   "metadata": {
    "deletable": false,
    "editable": false
   },
   "source": [
    "**Question 2.4** Similarly, what will the output `y` be if you change `x` to `[0, 2, 2, 2]`?"
   ]
  },
  {
   "cell_type": "markdown",
   "id": "89a85bdb",
   "metadata": {},
   "source": [
    "Amplitude should be scaled by 2"
   ]
  },
  {
   "cell_type": "markdown",
   "id": "b080fcdd",
   "metadata": {
    "deletable": false,
    "editable": false
   },
   "source": [
    "### Difference equation representation\n",
    "\n",
    "You have seen in lectures that discrete-time LTI systems can also be represented using difference equations, i.e.\n",
    "$$ \\sum_{k=0}^N a_ky[n-k]=\\sum_{k=0}^{M}b_k x[n-k]$$\n",
    "where $a_k$ and $b_k$ are constant coefficients. This forms shows how the output at time $n$, $y[n]$, can be obtained as a weighted sum of past outputs and past and present inputs to the system."
   ]
  },
  {
   "cell_type": "markdown",
   "id": "5b35b593",
   "metadata": {
    "deletable": false,
    "editable": false
   },
   "source": [
    "**Question 2.5** Given a system with $a_0=1$, $a_1=-0.25$, $b_0=1$ and all other coefficients zero, write its difference equation."
   ]
  },
  {
   "cell_type": "markdown",
   "id": "e0357dff",
   "metadata": {},
   "source": [
    "The difference equation is: $y[n] - 0.25y[n-1] = x[n]$"
   ]
  },
  {
   "cell_type": "markdown",
   "id": "cda0aefd",
   "metadata": {
    "deletable": false,
    "editable": false
   },
   "source": [
    "**Question 2.6** Compute the output the system for $x[n]=\\delta[n]$ using Python. Calculate $N=5$ output values and assume zero initial conditions. What is the function that you obtain?"
   ]
  },
  {
   "cell_type": "code",
   "execution_count": 24,
   "id": "f66dbe70",
   "metadata": {},
   "outputs": [
    {
     "data": {
      "image/png": "[encoded data removed]",
      "text/plain": [
       "<Figure size 640x480 with 1 Axes>"
      ]
     },
     "metadata": {},
     "output_type": "display_data"
    }
   ],
   "source": [
    "def systemOutput(N): \n",
    "    ic=0 # zero initial conditions\n",
    "    y=[0]*N\n",
    "    y[0] = 1\n",
    "    x=np.concatenate((np.ones(1),np.zeros(N-1)))\n",
    "    for i in range(1,N):\n",
    "        y[i] = 0.25*y[i-1] + x[i]\n",
    "    return y\n",
    "\n",
    "y = systemOutput(5)\n",
    "      \n",
    "plt = plot_signal(y, title='System output', xlabel='Time [sample no.]', ylabel='Amplitude', func='stem')\n",
    "plt.savefig('results/ex2/ex2_difference_equation.pdf')\n",
    "plt.show()\n"
   ]
  },
  {
   "cell_type": "markdown",
   "id": "7b273b63",
   "metadata": {},
   "source": [
    "The function we obtain is the solution to a differential equation with exponential decay"
   ]
  },
  {
   "cell_type": "markdown",
   "id": "294b957d",
   "metadata": {
    "deletable": false,
    "editable": false
   },
   "source": [
    "**Question 2.7** Increase the value of $N$ to i) 10, ii) 50 iii) 100 and examine the last value of `y` using `print(y[N-1])`. What can you say about this system?"
   ]
  },
  {
   "cell_type": "code",
   "execution_count": 26,
   "id": "4622fdce",
   "metadata": {},
   "outputs": [
    {
     "name": "stdout",
     "output_type": "stream",
     "text": [
      "the last value for N = 10 is 3.814697265625e-06\n",
      "the last value for N = 50 is 3.1554436208840472e-30\n",
      "the last value for N = 100 is 2.4892061111444567e-60\n"
     ]
    }
   ],
   "source": [
    "print(f'the last value for N = 10 is {systemOutput(10)[9]}')\n",
    "print(f'the last value for N = 50 is {systemOutput(50)[49]}')\n",
    "print(f'the last value for N = 100 is {systemOutput(100)[99]}')"
   ]
  },
  {
   "cell_type": "markdown",
   "id": "48c878c0",
   "metadata": {},
   "source": [
    "The output of the system is tending towards 0"
   ]
  },
  {
   "cell_type": "markdown",
   "id": "fc40d74a",
   "metadata": {
    "deletable": false,
    "editable": false
   },
   "source": [
    "**Question 2.8** Change your code to have $x[n]=0$ and $y[-1]=2$. Compare your plot to Exercise 12 of Problem Sheet 2."
   ]
  },
  {
   "cell_type": "code",
   "execution_count": 31,
   "id": "81ee94b1",
   "metadata": {},
   "outputs": [
    {
     "data": {
      "image/png": "[encoded data removed]",
      "text/plain": [
       "<Figure size 640x480 with 1 Axes>"
      ]
     },
     "metadata": {},
     "output_type": "display_data"
    }
   ],
   "source": [
    "def systemOutput2(N): \n",
    "    ic=0 # zero initial conditions\n",
    "    y=[0]*(N+1)\n",
    "    y[0] = 0.25*2\n",
    "    x=[0]*N\n",
    "    for i in range(1,N):\n",
    "        y[i] = 0.25*y[i-1] + x[i]\n",
    "    return y\n",
    "\n",
    "y = systemOutput2(5)\n",
    "plt = plot_signal(y, title='System output', xlabel='Time [sample no.]', ylabel='Amplitude', func='stem')\n",
    "plt.savefig('results/ex2/ex2_difference_equation.pdf')\n",
    "plt.show()"
   ]
  }
 ],
 "metadata": {
  "celltoolbar": "Edit Metadata",
  "kernelspec": {
   "display_name": "Python 3",
   "language": "python",
   "name": "python3"
  },
  "language_info": {
   "codemirror_mode": {
    "name": "ipython",
    "version": 3
   },
   "file_extension": ".py",
   "mimetype": "text/x-python",
   "name": "python",
   "nbconvert_exporter": "python",
   "pygments_lexer": "ipython3",
   "version": "3.14.0"
  }
 },
 "nbformat": 4,
 "nbformat_minor": 5
}
